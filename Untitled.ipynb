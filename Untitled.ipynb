{
 "cells": [
  {
   "cell_type": "markdown",
   "id": "bbeba5bf-841b-44f8-9512-49468e2a953a",
   "metadata": {},
   "source": [
    "# Importing Libraries"
   ]
  },
  {
   "cell_type": "code",
   "execution_count": 3,
   "id": "6c0ade0f-d7db-4995-ab07-2ae21f3fa9af",
   "metadata": {},
   "outputs": [],
   "source": [
    "#Data Science Libraries\n",
    "import numpy as np\n",
    "import pandas as pd\n",
    "import tensorflow as tf\n",
    "from sklearn.model_selection import train_test_split\n",
    "import itertools\n",
    "import random\n",
    "\n",
    "#Visualization Libraries\n",
    "import matplotlib.pyplot as plt\n",
    "import matplotlib.cm as cm\n",
    "import cv2\n",
    "import seaborn as sns\n",
    "\n",
    "#Tensorflow Libraries\n",
    "from tensorflow import keras\n",
    "from tensorflow.keras import layers, models\n",
    "from tensorflow.keras.preprocessing.image import ImageDataGenerator\n",
    "from tensorflow.keras.layers import Dense, Dropout, BatchNormalization\n",
    "from tensorflow.keras.callbacks import Callback, EarlyStopping, ModelCheckpoint, ReduceLROnPlateau\n",
    "from tensorflow.keras import Model\n",
    "from tensorflow.keras.layers import TextVectorization\n",
    "from tensorflow.keras.optimizers import Adam\n",
    "\n",
    "#System Libraries\n",
    "from pathlib import Path\n",
    "import os.path\n",
    "\n",
    "#Metrics\n",
    "from sklearn.metrics import classification_report, confusion_matrix\n",
    "\n",
    "sns.set_style('darkgrid')"
   ]
  },
  {
   "cell_type": "code",
   "execution_count": 5,
   "id": "6339f055-fa5c-455a-9fde-a3af91877c79",
   "metadata": {},
   "outputs": [
    {
     "ename": "AttributeError",
     "evalue": "type object 'ConfigProto' has no attribute 'set_session'",
     "output_type": "error",
     "traceback": [
      "\u001b[1;31m---------------------------------------------------------------------------\u001b[0m",
      "\u001b[1;31mAttributeError\u001b[0m                            Traceback (most recent call last)",
      "Cell \u001b[1;32mIn[5], line 25\u001b[0m\n\u001b[0;32m     22\u001b[0m     sess \u001b[38;5;241m=\u001b[39m tf\u001b[38;5;241m.\u001b[39mcompat\u001b[38;5;241m.\u001b[39mv1\u001b[38;5;241m.\u001b[39mSession(graph\u001b[38;5;241m=\u001b[39mtf\u001b[38;5;241m.\u001b[39mcompat\u001b[38;5;241m.\u001b[39mv1\u001b[38;5;241m.\u001b[39mget_default_graph(), config\u001b[38;5;241m=\u001b[39msession_conf)\n\u001b[0;32m     23\u001b[0m     tf\u001b[38;5;241m.\u001b[39mcompat\u001b[38;5;241m.\u001b[39mv1\u001b[38;5;241m.\u001b[39mConfigProto\u001b[38;5;241m.\u001b[39mset_session(sess)\n\u001b[1;32m---> 25\u001b[0m seed_everything()\n",
      "Cell \u001b[1;32mIn[5], line 23\u001b[0m, in \u001b[0;36mseed_everything\u001b[1;34m(seed)\u001b[0m\n\u001b[0;32m     20\u001b[0m tf\u001b[38;5;241m.\u001b[39mcompat\u001b[38;5;241m.\u001b[39mv1\u001b[38;5;241m.\u001b[39mset_random_seed(seed)\n\u001b[0;32m     22\u001b[0m sess \u001b[38;5;241m=\u001b[39m tf\u001b[38;5;241m.\u001b[39mcompat\u001b[38;5;241m.\u001b[39mv1\u001b[38;5;241m.\u001b[39mSession(graph\u001b[38;5;241m=\u001b[39mtf\u001b[38;5;241m.\u001b[39mcompat\u001b[38;5;241m.\u001b[39mv1\u001b[38;5;241m.\u001b[39mget_default_graph(), config\u001b[38;5;241m=\u001b[39msession_conf)\n\u001b[1;32m---> 23\u001b[0m tf\u001b[38;5;241m.\u001b[39mcompat\u001b[38;5;241m.\u001b[39mv1\u001b[38;5;241m.\u001b[39mConfigProto\u001b[38;5;241m.\u001b[39mset_session(sess)\n",
      "\u001b[1;31mAttributeError\u001b[0m: type object 'ConfigProto' has no attribute 'set_session'"
     ]
    }
   ],
   "source": [
    "#Seed Everything means, Random Parts of our Code always give the same results\n",
    "def seed_everything(seed = 42):\n",
    "\n",
    "    #Seed Value for Tensorflow\n",
    "    tf.random.set_seed(seed)\n",
    "\n",
    "    #Seed Value for NumPy\n",
    "    np.random.seed(seed)\n",
    "\n",
    "    #Seed Value for Random\n",
    "    random.seed(seed)\n",
    "\n",
    "    #Seeting TensorFlow to use only a single thread at a time\n",
    "    #Multiple Threads at a time troubles seeding\n",
    "    session_conf = tf.compat.v1.ConfigProto(\n",
    "        intra_op_parallelism_threads=1,\n",
    "        inter_op_parallelism_threads=1\n",
    "    )\n",
    "\n",
    "    tf.compat.v1.set_random_seed(seed)\n",
    "\n",
    "    sess = tf.compat.v1.Session(graph=tf.compat.v1.get_default_graph(), config=session_conf)\n",
    "    tf.compat.v1.ConfigProto.set_session(sess)\n",
    "\n",
    "seed_everything()"
   ]
  },
  {
   "cell_type": "markdown",
   "id": "b26f2099-36dc-481a-99d3-db270d40d894",
   "metadata": {},
   "source": [
    "# Getting Helper Functions"
   ]
  },
  {
   "cell_type": "code",
   "execution_count": null,
   "id": "b414bab4-9778-4926-b52a-97e0b30fcd13",
   "metadata": {},
   "outputs": [],
   "source": [
    "!wget https://raw.githubusercontent.com/mrdbourke/tensorflow-deep-learning/main/extras/helper_functions.py\n",
    "\n",
    "from helper_functions import create_tensorboard_callback, plot_loss_curves, unzip_data, compare_historys, walk_through_dir, pred_and_plot"
   ]
  },
  {
   "cell_type": "markdown",
   "id": "93b8f08c-fd9a-40ee-9f41-653d559252ab",
   "metadata": {},
   "source": [
    "# Loading Data"
   ]
  },
  {
   "cell_type": "code",
   "execution_count": null,
   "id": "9404a28f-8077-47a1-98a0-6edae0c93d3f",
   "metadata": {},
   "outputs": [],
   "source": [
    "#Batch Size refers to the number of examples used in one iteration\n",
    "BATCH_SIZE = 32\n",
    "#Target Size refers to the dimesion of the input and output data\n",
    "TARGET_SIZE = (224, 224)"
   ]
  },
  {
   "cell_type": "code",
   "execution_count": null,
   "id": "20d08e2c-08e6-4c2f-8baa-47016b3f581d",
   "metadata": {},
   "outputs": [],
   "source": [
    "#Walk through each directory\n",
    "dataset = \"raw-img\"\n",
    "walk_through_dir(dataset)"
   ]
  },
  {
   "cell_type": "code",
   "execution_count": null,
   "id": "7191092e-c64a-4e93-b339-19a4f80fcead",
   "metadata": {},
   "outputs": [],
   "source": [
    "import tensorflow as tf\n",
    "\n",
    "# Check TensorFlow version\n",
    "print(\"TensorFlow version:\", tf.__version__)\n",
    "\n",
    "# Test importing preprocessing layers\n",
    "from tensorflow.keras.layers import Rescaling, RandomFlip, RandomRotation\n",
    "\n",
    "print(\"Preprocessing layers are available.\")\n"
   ]
  },
  {
   "cell_type": "code",
   "execution_count": null,
   "id": "b24bd883-6079-4833-93ce-3711012e1ecc",
   "metadata": {},
   "outputs": [],
   "source": []
  },
  {
   "cell_type": "code",
   "execution_count": null,
   "id": "61d814af-6335-4159-bbfe-2eea3b0ead1f",
   "metadata": {},
   "outputs": [],
   "source": []
  }
 ],
 "metadata": {
  "kernelspec": {
   "display_name": "Python 3 (ipykernel)",
   "language": "python",
   "name": "python3"
  },
  "language_info": {
   "codemirror_mode": {
    "name": "ipython",
    "version": 3
   },
   "file_extension": ".py",
   "mimetype": "text/x-python",
   "name": "python",
   "nbconvert_exporter": "python",
   "pygments_lexer": "ipython3",
   "version": "3.11.7"
  }
 },
 "nbformat": 4,
 "nbformat_minor": 5
}
